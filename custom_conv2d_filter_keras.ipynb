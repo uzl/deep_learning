{
 "cells": [
  {
   "cell_type": "markdown",
   "metadata": {},
   "source": [
    "## What will be the output after this convolution operation?\n",
    "\n",
    "<hr>\n",
    "<img src='data/img/Problem_fig.png'> "
   ]
  },
  {
   "cell_type": "code",
   "execution_count": 1,
   "metadata": {},
   "outputs": [
    {
     "name": "stderr",
     "output_type": "stream",
     "text": [
      "Using TensorFlow backend.\n"
     ]
    }
   ],
   "source": [
    "import keras.backend as K\n",
    "import numpy as np\n",
    "from keras import Input, layers\n",
    "from keras.models import Model\n",
    "from pprint import pprint"
   ]
  },
  {
   "cell_type": "markdown",
   "metadata": {},
   "source": [
    "### Input matrix\n",
    "<img src='data/img/input_mat.png'>"
   ]
  },
  {
   "cell_type": "code",
   "execution_count": 2,
   "metadata": {},
   "outputs": [],
   "source": [
    "input_mat = np.array([\n",
    "    [ [4], [9], [2], [5], [8], [3] ],\n",
    "    [ [3], [6], [2], [4], [0], [3] ],\n",
    "    [ [2], [4], [5], [4], [5], [2] ],\n",
    "    [ [5], [6], [5], [4], [7], [8] ],\n",
    "    [ [5], [7], [7], [9], [2], [1] ],\n",
    "    [ [5], [8], [5], [3], [8], [4] ]\n",
    "])\n",
    "input_mat = input_mat.reshape((1, 6, 6, 1))\n"
   ]
  },
  {
   "cell_type": "markdown",
   "metadata": {},
   "source": [
    "### Filter \n",
    "<img src='data/img/filter_mat.png'>\n"
   ]
  },
  {
   "cell_type": "code",
   "execution_count": 3,
   "metadata": {},
   "outputs": [],
   "source": [
    "# custom filter\n",
    "def my_filter(shape, dtype=None):\n",
    "    \n",
    "    f = np.array([\n",
    "            [[[1]], [[0]], [[-1]]],\n",
    "            [[[1]], [[0]], [[-1]]],\n",
    "            [[[1]], [[0]], [[-1]]]\n",
    "        ])\n",
    "    assert f.shape == shape\n",
    "    return K.variable(f, dtype='float32')\n"
   ]
  },
  {
   "cell_type": "markdown",
   "metadata": {},
   "source": [
    "<hr>"
   ]
  },
  {
   "cell_type": "code",
   "execution_count": 5,
   "metadata": {},
   "outputs": [
    {
     "name": "stdout",
     "output_type": "stream",
     "text": [
      "[[[[ 0.]\n",
      "   [-4.]]\n",
      "\n",
      "  [[-5.]\n",
      "   [ 3.]]]]\n"
     ]
    }
   ],
   "source": [
    "\n",
    "\n",
    "def build_model():\n",
    "    input_tensor = Input(shape=(6,6,1))\n",
    "    x = layers.Conv2D(1, kernel_size = 3,\n",
    "                      kernel_initializer=my_filter,\n",
    "                      strides=2, padding='valid') (input_tensor)\n",
    "    model = Model(inputs=input_tensor, outputs=x)\n",
    "    return model\n",
    "\n",
    "\n",
    "model = build_model()\n",
    "out = model.predict(input_mat)\n",
    "print(out)"
   ]
  },
  {
   "cell_type": "code",
   "execution_count": null,
   "metadata": {},
   "outputs": [],
   "source": []
  }
 ],
 "metadata": {
  "kernelspec": {
   "display_name": "Python 3",
   "language": "python",
   "name": "python3"
  },
  "language_info": {
   "codemirror_mode": {
    "name": "ipython",
    "version": 3
   },
   "file_extension": ".py",
   "mimetype": "text/x-python",
   "name": "python",
   "nbconvert_exporter": "python",
   "pygments_lexer": "ipython3",
   "version": "3.7.3"
  }
 },
 "nbformat": 4,
 "nbformat_minor": 2
}
