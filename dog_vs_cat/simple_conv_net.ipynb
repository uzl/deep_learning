{
 "cells": [
  {
   "cell_type": "markdown",
   "metadata": {},
   "source": [
    "### Simple Conv Net"
   ]
  },
  {
   "cell_type": "code",
   "execution_count": 4,
   "metadata": {
    "scrolled": true
   },
   "outputs": [
    {
     "name": "stdout",
     "output_type": "stream",
     "text": [
      "_________________________________________________________________\n",
      "Layer (type)                 Output Shape              Param #   \n",
      "=================================================================\n",
      "conv2d_5 (Conv2D)            (None, 148, 148, 32)      896       \n",
      "_________________________________________________________________\n",
      "max_pooling2d_4 (MaxPooling2 (None, 74, 74, 32)        0         \n",
      "_________________________________________________________________\n",
      "conv2d_6 (Conv2D)            (None, 72, 72, 64)        18496     \n",
      "_________________________________________________________________\n",
      "max_pooling2d_5 (MaxPooling2 (None, 36, 36, 64)        0         \n",
      "_________________________________________________________________\n",
      "conv2d_7 (Conv2D)            (None, 34, 34, 128)       73856     \n",
      "_________________________________________________________________\n",
      "max_pooling2d_6 (MaxPooling2 (None, 17, 17, 128)       0         \n",
      "_________________________________________________________________\n",
      "conv2d_8 (Conv2D)            (None, 15, 15, 128)       147584    \n",
      "_________________________________________________________________\n",
      "max_pooling2d_7 (MaxPooling2 (None, 7, 7, 128)         0         \n",
      "_________________________________________________________________\n",
      "flatten_1 (Flatten)          (None, 6272)              0         \n",
      "_________________________________________________________________\n",
      "dense_2 (Dense)              (None, 512)               3211776   \n",
      "_________________________________________________________________\n",
      "dense_3 (Dense)              (None, 1)                 513       \n",
      "=================================================================\n",
      "Total params: 3,453,121\n",
      "Trainable params: 3,453,121\n",
      "Non-trainable params: 0\n",
      "_________________________________________________________________\n"
     ]
    }
   ],
   "source": [
    "from tensorflow.keras import layers\n",
    "from tensorflow.keras import models\n",
    "\n",
    "model = models.Sequential()\n",
    "model.add(layers.Conv2D(32, (3,3), activation='relu', input_shape= (150, 150, 3)))\n",
    "model.add(layers.MaxPooling2D ((2,2)))\n",
    "model.add(layers.Conv2D(64, (3,3), activation='relu'))\n",
    "model.add(layers.MaxPooling2D ((2,2)))\n",
    "model.add(layers.Conv2D ( 128, (3,3), activation='relu' ))\n",
    "model.add(layers.MaxPooling2D((2,2)))\n",
    "model.add(layers.Conv2D( 128, (3,3), activation='relu'))\n",
    "model.add(layers.MaxPooling2D((2,2)))\n",
    "\n",
    "model.add(layers.Flatten())\n",
    "model.add(layers.Dense(512, activation='relu'))\n",
    "model.add(layers.Dense(1, activation='sigmoid'))\n",
    "\n",
    "model.summary()"
   ]
  },
  {
   "cell_type": "code",
   "execution_count": 9,
   "metadata": {},
   "outputs": [],
   "source": [
    "from tensorflow.keras import optimizers\n",
    "\n",
    "model.compile(loss='binary_crossentropy',\n",
    "             optimizer= optimizers.RMSprop(lr=1e-4),\n",
    "             metrics=['acc'])\n"
   ]
  },
  {
   "cell_type": "markdown",
   "metadata": {},
   "source": [
    "### Preprocessing"
   ]
  },
  {
   "cell_type": "code",
   "execution_count": 14,
   "metadata": {},
   "outputs": [
    {
     "name": "stdout",
     "output_type": "stream",
     "text": [
      "Found 2000 images belonging to 2 classes.\n",
      "Found 1000 images belonging to 2 classes.\n"
     ]
    }
   ],
   "source": [
    "from tensorflow.keras.preprocessing.image import ImageDataGenerator\n",
    "\n",
    "train_dir = 'D:/dataset/dog_vs_cat/dataset_new/train/'\n",
    "validation_dir = 'D:/dataset/dog_vs_cat/dataset_new/validation/'\n",
    "\n",
    "train_datagen = ImageDataGenerator (rescale=1./255)\n",
    "test_datagen = ImageDataGenerator(rescale=1./255)\n",
    "\n",
    "train_generator = train_datagen.flow_from_directory(train_dir, \n",
    "                                                 target_size = (150, 150),\n",
    "                                                 batch_size = 20,\n",
    "                                                 class_mode = 'binary')\n",
    "\n",
    "validation_generator = test_datagen.flow_from_directory(validation_dir,\n",
    "                                                       target_size=(150, 150),\n",
    "                                                       batch_size=20,\n",
    "                                                       class_mode='binary')\n"
   ]
  },
  {
   "cell_type": "code",
   "execution_count": 15,
   "metadata": {},
   "outputs": [
    {
     "name": "stdout",
     "output_type": "stream",
     "text": [
      "data batch shape  (20, 150, 150, 3)\n",
      "labels batch shape  (20,)\n"
     ]
    }
   ],
   "source": [
    "for data_batch, labels_batch in train_generator:\n",
    "    print ('data batch shape ', data_batch.shape)\n",
    "    print ('labels batch shape ', labels_batch.shape)\n",
    "    break;"
   ]
  },
  {
   "cell_type": "code",
   "execution_count": 16,
   "metadata": {},
   "outputs": [
    {
     "name": "stdout",
     "output_type": "stream",
     "text": [
      "Epoch 1/15\n",
      "100/100 [==============================] - 37s 372ms/step - loss: 0.6850 - acc: 0.5440 - val_loss: 0.6624 - val_acc: 0.6300\n",
      "Epoch 2/15\n",
      "100/100 [==============================] - 14s 138ms/step - loss: 0.6521 - acc: 0.6150 - val_loss: 0.6364 - val_acc: 0.6470\n",
      "Epoch 3/15\n",
      "100/100 [==============================] - 14s 139ms/step - loss: 0.6117 - acc: 0.6740 - val_loss: 0.6251 - val_acc: 0.6470\n",
      "Epoch 4/15\n",
      "100/100 [==============================] - 14s 142ms/step - loss: 0.5669 - acc: 0.7045 - val_loss: 0.6115 - val_acc: 0.6600\n",
      "Epoch 5/15\n",
      "100/100 [==============================] - 15s 154ms/step - loss: 0.5384 - acc: 0.7415 - val_loss: 0.5621 - val_acc: 0.7130\n",
      "Epoch 6/15\n",
      "100/100 [==============================] - 15s 151ms/step - loss: 0.5073 - acc: 0.7430 - val_loss: 0.6015 - val_acc: 0.6730\n",
      "Epoch 7/15\n",
      "100/100 [==============================] - 15s 148ms/step - loss: 0.4807 - acc: 0.7600 - val_loss: 0.5778 - val_acc: 0.7030\n",
      "Epoch 8/15\n",
      "100/100 [==============================] - 15s 147ms/step - loss: 0.4578 - acc: 0.7820 - val_loss: 0.5624 - val_acc: 0.7140\n",
      "Epoch 9/15\n",
      "100/100 [==============================] - 15s 150ms/step - loss: 0.4348 - acc: 0.7970 - val_loss: 0.5675 - val_acc: 0.7090\n",
      "Epoch 10/15\n",
      "100/100 [==============================] - 15s 147ms/step - loss: 0.4098 - acc: 0.8125 - val_loss: 0.5435 - val_acc: 0.7200\n",
      "Epoch 11/15\n",
      "100/100 [==============================] - 15s 148ms/step - loss: 0.3952 - acc: 0.8250 - val_loss: 0.5656 - val_acc: 0.7180\n",
      "Epoch 12/15\n",
      "100/100 [==============================] - 15s 152ms/step - loss: 0.3670 - acc: 0.8410 - val_loss: 0.5733 - val_acc: 0.7230\n",
      "Epoch 13/15\n",
      "100/100 [==============================] - 16s 155ms/step - loss: 0.3420 - acc: 0.8530 - val_loss: 0.5593 - val_acc: 0.7230\n",
      "Epoch 14/15\n",
      "100/100 [==============================] - 15s 149ms/step - loss: 0.3130 - acc: 0.8640 - val_loss: 0.5676 - val_acc: 0.7280\n",
      "Epoch 15/15\n",
      "100/100 [==============================] - 15s 155ms/step - loss: 0.2958 - acc: 0.8805 - val_loss: 0.5704 - val_acc: 0.7400\n"
     ]
    }
   ],
   "source": [
    "history = model.fit_generator(train_generator, \n",
    "                              steps_per_epoch=100,\n",
    "                             epochs=30,\n",
    "                             validation_data = validation_generator,\n",
    "                             validation_steps = 50)\n",
    "\n",
    "model.save('cats_dog_model.h5')"
   ]
  },
  {
   "cell_type": "code",
   "execution_count": 19,
   "metadata": {},
   "outputs": [
    {
     "data": {
      "image/png": "[encoded data removed]",
      "text/plain": [
       "<Figure size 432x288 with 1 Axes>"
      ]
     },
     "metadata": {
      "needs_background": "light"
     },
     "output_type": "display_data"
    }
   ],
   "source": [
    "import matplotlib.pyplot as plt\n",
    "\n",
    "acc = history.history['acc']\n",
    "val_acc = history.history['val_acc']\n",
    "\n",
    "loss = history.history['loss']\n",
    "val_loss = history.history['val_loss']\n",
    "\n",
    "epochs = range(1, len(acc)+1 )\n",
    "\n",
    "plt.plot(epochs, acc, 'bo', label='Training acc')\n",
    "plt.plot(epochs, val_acc, 'b', label='Validation Acc')\n",
    "plt.title('Training and Validation Accurency')\n",
    "plt.legend()\n",
    "\n",
    "plt.savefig('Training_and_Validation_Accurency.png')\n",
    "\n",
    "\n",
    "plt.show()"
   ]
  }
 ],
 "metadata": {
  "kernelspec": {
   "display_name": "Python 3",
   "language": "python",
   "name": "python3"
  },
  "language_info": {
   "codemirror_mode": {
    "name": "ipython",
    "version": 3
   },
   "file_extension": ".py",
   "mimetype": "text/x-python",
   "name": "python",
   "nbconvert_exporter": "python",
   "pygments_lexer": "ipython3",
   "version": "3.6.6"
  }
 },
 "nbformat": 4,
 "nbformat_minor": 2
}
