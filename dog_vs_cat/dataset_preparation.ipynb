{
 "cells": [
  {
   "cell_type": "markdown",
   "metadata": {},
   "source": [
    "### Necessery Folder Creation"
   ]
  },
  {
   "cell_type": "code",
   "execution_count": 22,
   "metadata": {},
   "outputs": [],
   "source": [
    "import os, shutil\n",
    "\n",
    "# this folder contains 25,000  images\n",
    "raw_data_dir = 'D:/dataset/dog_vs_cat/train' \n",
    "\n",
    "# we will create new dataset which will have train, validation, test folder\n",
    "base_dir = 'D:/dataset/dog_vs_cat/dataset_new/'\n"
   ]
  },
  {
   "cell_type": "code",
   "execution_count": 23,
   "metadata": {},
   "outputs": [],
   "source": [
    "train_dir = os.path.join(base_dir, 'train')\n",
    "os.mkdir(train_dir)\n",
    "validation_dir = os.path.join(base_dir, 'validation')\n",
    "os.mkdir(validation_dir)\n",
    "test_dir = os.path.join(base_dir, 'test')\n",
    "os.mkdir(test_dir)\n",
    "\n",
    "train_cats_dir = os.path.join(train_dir, 'cats')\n",
    "train_dogs_dir = os.path.join(train_dir, 'dogs')\n",
    "os.mkdir(train_dogs_dir)\n",
    "os.mkdir(train_cats_dir)\n",
    "\n",
    "validation_cats_dir = os.path.join(validation_dir, 'cats')\n",
    "validation_dogs_dir = os.path.join(validation_dir, 'dogs')\n",
    "os.mkdir(validation_cats_dir)\n",
    "os.mkdir(validation_dogs_dir)\n",
    "\n",
    "test_cats_dir = os.path.join(test_dir, 'cats')\n",
    "test_dogs_dir = os.path.join(test_dir, 'dogs')\n",
    "os.mkdir(test_cats_dir)\n",
    "os.mkdir(test_dogs_dir)\n",
    "\n"
   ]
  },
  {
   "cell_type": "markdown",
   "metadata": {},
   "source": [
    "### Copy cats images to newly created train, validation and test folder"
   ]
  },
  {
   "cell_type": "code",
   "execution_count": 24,
   "metadata": {},
   "outputs": [],
   "source": [
    "fnames_list = ['cat.{}.jpg'.format(i) for i in range(1000)]\n",
    "for fname in fnames_list:\n",
    "    src = os.path.join(raw_data_dir, fname)\n",
    "    dst = os.path.join(train_cats_dir, fname)\n",
    "    shutil.copyfile(src, dst)\n",
    "\n",
    "    \n",
    "fname_list = ['cat.{}.jpg'.format(i) for i in range(1000, 1500)]\n",
    "for fname in fname_list:\n",
    "    src = os.path.join(raw_data_dir, fname)\n",
    "    dst = os.path.join(validation_cats_dir, fname)\n",
    "    shutil.copyfile(src, dst)\n",
    "\n",
    "\n",
    "fname_list = ['cat.{}.jpg'.format(i) for i in range(1500, 2000)]\n",
    "for fname in fname_list:\n",
    "    src = os.path.join(raw_data_dir, fname)\n",
    "    dst = os.path.join(test_cats_dir, fname)\n",
    "    shutil.copyfile(src, dst)\n",
    "\n",
    "\n",
    "\n",
    "\n",
    "fnames_list = ['dog.{}.jpg'.format(i) for i in range(1000)]\n",
    "for fname in fnames_list:\n",
    "    src = os.path.join(raw_data_dir, fname)\n",
    "    dst = os.path.join(train_dogs_dir, fname)\n",
    "    shutil.copyfile(src, dst)\n",
    "\n",
    "    \n",
    "fname_list = ['dog.{}.jpg'.format(i) for i in range(1000, 1500)]\n",
    "for fname in fname_list:\n",
    "    src = os.path.join(raw_data_dir, fname)\n",
    "    dst = os.path.join(validation_dogs_dir, fname)\n",
    "    shutil.copyfile(src, dst)\n",
    "\n",
    "\n",
    "fname_list = ['dog.{}.jpg'.format(i) for i in range(1500, 2000)]\n",
    "for fname in fname_list:\n",
    "    src = os.path.join(raw_data_dir, fname)\n",
    "    dst = os.path.join(test_dogs_dir, fname)\n",
    "    shutil.copyfile(src, dst)\n",
    "\n",
    "\n",
    "\n"
   ]
  },
  {
   "cell_type": "markdown",
   "metadata": {},
   "source": [
    "### Checking newly copied images"
   ]
  },
  {
   "cell_type": "code",
   "execution_count": 25,
   "metadata": {},
   "outputs": [
    {
     "name": "stdout",
     "output_type": "stream",
     "text": [
      "Trainging Images: (cat) 1000\n",
      "Trainging Images: (dog) 1000\n",
      "Validation Images: (cat) 500\n",
      "Validation Images: (dog) 500\n",
      "Test Images: (cat) 500\n",
      "Test Images: (dog) 500\n"
     ]
    }
   ],
   "source": [
    "print ('Trainging Images: (cat)', len(os.listdir(train_cats_dir)))\n",
    "print ('Trainging Images: (dog)', len(os.listdir(train_dogs_dir)))\n",
    "\n",
    "print ('Validation Images: (cat)', len(os.listdir(validation_cats_dir)))\n",
    "print ('Validation Images: (dog)', len(os.listdir(validation_dogs_dir)))\n",
    "\n",
    "print ('Test Images: (cat)', len(os.listdir(test_cats_dir)))\n",
    "print ('Test Images: (dog)', len(os.listdir(test_dogs_dir)))"
   ]
  }
 ],
 "metadata": {
  "kernelspec": {
   "display_name": "Python 3",
   "language": "python",
   "name": "python3"
  },
  "language_info": {
   "codemirror_mode": {
    "name": "ipython",
    "version": 3
   },
   "file_extension": ".py",
   "mimetype": "text/x-python",
   "name": "python",
   "nbconvert_exporter": "python",
   "pygments_lexer": "ipython3",
   "version": "3.6.6"
  }
 },
 "nbformat": 4,
 "nbformat_minor": 2
}
